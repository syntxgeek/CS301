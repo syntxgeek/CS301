{
 "cells": [
  {
   "cell_type": "markdown",
   "id": "c22ebf8d",
   "metadata": {},
   "source": [
    "# Data Preprocessing Steps:\n"
   ]
  },
  {
   "cell_type": "markdown",
   "id": "0c5c47a0",
   "metadata": {},
   "source": [
    "## Import the libraries"
   ]
  },
  {
   "cell_type": "code",
   "execution_count": 75,
   "id": "bf4e0f81",
   "metadata": {},
   "outputs": [],
   "source": [
    "import numpy as np\n",
    "import pandas as pd\n",
    "import matplotlib.pyplot as plt\n",
    "from sklearn import preprocessing\n",
    "from sklearn.model_selection import train_test_split\n",
    "from sklearn.impute import SimpleImputer"
   ]
  },
  {
   "cell_type": "markdown",
   "id": "7db10320",
   "metadata": {},
   "source": [
    "## Import and examine the dataset\n",
    "- Do we have any missing values?\n",
    "- Show the dataframe sorted by State\n",
    "- Show the means of numeric features by State\n",
    "- Compute the min, max and mean of Salary and Age by state\n",
    "\n",
    "Use a many cells as needed to show your work"
   ]
  },
  {
   "cell_type": "markdown",
   "id": "9ee50ac8",
   "metadata": {},
   "source": [
    "[Dataset.csv](https://drive.google.com/file/d/1Sq7OQ-jMWFlF6Zamz5_RmIvjUt9d1THb/view?usp=sharing)"
   ]
  },
  {
   "cell_type": "code",
   "execution_count": 76,
   "id": "d0cc5d50",
   "metadata": {},
   "outputs": [],
   "source": [
    "#read the file\n",
    "df = pd.read_csv(\"./Dataset.csv\")"
   ]
  },
  {
   "cell_type": "code",
   "execution_count": 77,
   "id": "583445a8",
   "metadata": {},
   "outputs": [
    {
     "data": {
      "text/html": [
       "<div>\n",
       "<style scoped>\n",
       "    .dataframe tbody tr th:only-of-type {\n",
       "        vertical-align: middle;\n",
       "    }\n",
       "\n",
       "    .dataframe tbody tr th {\n",
       "        vertical-align: top;\n",
       "    }\n",
       "\n",
       "    .dataframe thead th {\n",
       "        text-align: right;\n",
       "    }\n",
       "</style>\n",
       "<table border=\"1\" class=\"dataframe\">\n",
       "  <thead>\n",
       "    <tr style=\"text-align: right;\">\n",
       "      <th></th>\n",
       "      <th>State</th>\n",
       "      <th>Salary</th>\n",
       "      <th>Age</th>\n",
       "      <th>Paid_back</th>\n",
       "    </tr>\n",
       "  </thead>\n",
       "  <tbody>\n",
       "    <tr>\n",
       "      <th>0</th>\n",
       "      <td>New York</td>\n",
       "      <td>80000.0</td>\n",
       "      <td>35.0</td>\n",
       "      <td>Yes</td>\n",
       "    </tr>\n",
       "    <tr>\n",
       "      <th>1</th>\n",
       "      <td>New Jersey</td>\n",
       "      <td>60000.0</td>\n",
       "      <td>47.0</td>\n",
       "      <td>Yes</td>\n",
       "    </tr>\n",
       "    <tr>\n",
       "      <th>2</th>\n",
       "      <td>Pennsylvania</td>\n",
       "      <td>50000.0</td>\n",
       "      <td>61.0</td>\n",
       "      <td>No</td>\n",
       "    </tr>\n",
       "    <tr>\n",
       "      <th>3</th>\n",
       "      <td>New Jersey</td>\n",
       "      <td>NaN</td>\n",
       "      <td>29.0</td>\n",
       "      <td>No</td>\n",
       "    </tr>\n",
       "    <tr>\n",
       "      <th>4</th>\n",
       "      <td>New Jersey</td>\n",
       "      <td>90000.0</td>\n",
       "      <td>70.0</td>\n",
       "      <td>No</td>\n",
       "    </tr>\n",
       "  </tbody>\n",
       "</table>\n",
       "</div>"
      ],
      "text/plain": [
       "          State   Salary   Age Paid_back\n",
       "0      New York  80000.0  35.0       Yes\n",
       "1    New Jersey  60000.0  47.0       Yes\n",
       "2  Pennsylvania  50000.0  61.0        No\n",
       "3    New Jersey      NaN  29.0        No\n",
       "4    New Jersey  90000.0  70.0        No"
      ]
     },
     "execution_count": 77,
     "metadata": {},
     "output_type": "execute_result"
    }
   ],
   "source": [
    "df.head()"
   ]
  },
  {
   "cell_type": "code",
   "execution_count": 78,
   "id": "fea0e97c",
   "metadata": {},
   "outputs": [
    {
     "data": {
      "text/html": [
       "<div>\n",
       "<style scoped>\n",
       "    .dataframe tbody tr th:only-of-type {\n",
       "        vertical-align: middle;\n",
       "    }\n",
       "\n",
       "    .dataframe tbody tr th {\n",
       "        vertical-align: top;\n",
       "    }\n",
       "\n",
       "    .dataframe thead th {\n",
       "        text-align: right;\n",
       "    }\n",
       "</style>\n",
       "<table border=\"1\" class=\"dataframe\">\n",
       "  <thead>\n",
       "    <tr style=\"text-align: right;\">\n",
       "      <th></th>\n",
       "      <th>State</th>\n",
       "      <th>Salary</th>\n",
       "      <th>Age</th>\n",
       "      <th>Paid_back</th>\n",
       "    </tr>\n",
       "  </thead>\n",
       "  <tbody>\n",
       "    <tr>\n",
       "      <th>0</th>\n",
       "      <td>New York</td>\n",
       "      <td>80000.0</td>\n",
       "      <td>35.0</td>\n",
       "      <td>Yes</td>\n",
       "    </tr>\n",
       "    <tr>\n",
       "      <th>1</th>\n",
       "      <td>New Jersey</td>\n",
       "      <td>60000.0</td>\n",
       "      <td>47.0</td>\n",
       "      <td>Yes</td>\n",
       "    </tr>\n",
       "    <tr>\n",
       "      <th>2</th>\n",
       "      <td>Pennsylvania</td>\n",
       "      <td>50000.0</td>\n",
       "      <td>61.0</td>\n",
       "      <td>No</td>\n",
       "    </tr>\n",
       "    <tr>\n",
       "      <th>3</th>\n",
       "      <td>New Jersey</td>\n",
       "      <td>NaN</td>\n",
       "      <td>29.0</td>\n",
       "      <td>No</td>\n",
       "    </tr>\n",
       "    <tr>\n",
       "      <th>4</th>\n",
       "      <td>New Jersey</td>\n",
       "      <td>90000.0</td>\n",
       "      <td>70.0</td>\n",
       "      <td>No</td>\n",
       "    </tr>\n",
       "    <tr>\n",
       "      <th>5</th>\n",
       "      <td>New York</td>\n",
       "      <td>40000.0</td>\n",
       "      <td>37.0</td>\n",
       "      <td>Yes</td>\n",
       "    </tr>\n",
       "    <tr>\n",
       "      <th>6</th>\n",
       "      <td>Pennsylvania</td>\n",
       "      <td>56000.0</td>\n",
       "      <td>30.0</td>\n",
       "      <td>Yes</td>\n",
       "    </tr>\n",
       "    <tr>\n",
       "      <th>7</th>\n",
       "      <td>New York</td>\n",
       "      <td>85000.0</td>\n",
       "      <td>NaN</td>\n",
       "      <td>No</td>\n",
       "    </tr>\n",
       "    <tr>\n",
       "      <th>8</th>\n",
       "      <td>Pennsylvania</td>\n",
       "      <td>42000.0</td>\n",
       "      <td>50.0</td>\n",
       "      <td>Yes</td>\n",
       "    </tr>\n",
       "    <tr>\n",
       "      <th>9</th>\n",
       "      <td>New Jersey</td>\n",
       "      <td>72000.0</td>\n",
       "      <td>42.0</td>\n",
       "      <td>Yes</td>\n",
       "    </tr>\n",
       "  </tbody>\n",
       "</table>\n",
       "</div>"
      ],
      "text/plain": [
       "          State   Salary   Age Paid_back\n",
       "0      New York  80000.0  35.0       Yes\n",
       "1    New Jersey  60000.0  47.0       Yes\n",
       "2  Pennsylvania  50000.0  61.0        No\n",
       "3    New Jersey      NaN  29.0        No\n",
       "4    New Jersey  90000.0  70.0        No\n",
       "5      New York  40000.0  37.0       Yes\n",
       "6  Pennsylvania  56000.0  30.0       Yes\n",
       "7      New York  85000.0   NaN        No\n",
       "8  Pennsylvania  42000.0  50.0       Yes\n",
       "9    New Jersey  72000.0  42.0       Yes"
      ]
     },
     "execution_count": 78,
     "metadata": {},
     "output_type": "execute_result"
    }
   ],
   "source": [
    "df"
   ]
  },
  {
   "cell_type": "code",
   "execution_count": 79,
   "id": "9e720dea",
   "metadata": {},
   "outputs": [
    {
     "name": "stdout",
     "output_type": "stream",
     "text": [
      "<class 'pandas.core.frame.DataFrame'>\n",
      "RangeIndex: 10 entries, 0 to 9\n",
      "Data columns (total 4 columns):\n",
      " #   Column     Non-Null Count  Dtype  \n",
      "---  ------     --------------  -----  \n",
      " 0   State      10 non-null     object \n",
      " 1   Salary     9 non-null      float64\n",
      " 2   Age        9 non-null      float64\n",
      " 3   Paid_back  10 non-null     object \n",
      "dtypes: float64(2), object(2)\n",
      "memory usage: 452.0+ bytes\n"
     ]
    }
   ],
   "source": [
    "df.info()\n"
   ]
  },
  {
   "cell_type": "code",
   "execution_count": 80,
   "id": "773e5eb1",
   "metadata": {},
   "outputs": [
    {
     "data": {
      "text/html": [
       "<div>\n",
       "<style scoped>\n",
       "    .dataframe tbody tr th:only-of-type {\n",
       "        vertical-align: middle;\n",
       "    }\n",
       "\n",
       "    .dataframe tbody tr th {\n",
       "        vertical-align: top;\n",
       "    }\n",
       "\n",
       "    .dataframe thead th {\n",
       "        text-align: right;\n",
       "    }\n",
       "</style>\n",
       "<table border=\"1\" class=\"dataframe\">\n",
       "  <thead>\n",
       "    <tr style=\"text-align: right;\">\n",
       "      <th></th>\n",
       "      <th>Salary</th>\n",
       "      <th>Age</th>\n",
       "    </tr>\n",
       "  </thead>\n",
       "  <tbody>\n",
       "    <tr>\n",
       "      <th>count</th>\n",
       "      <td>9.000000</td>\n",
       "      <td>9.000000</td>\n",
       "    </tr>\n",
       "    <tr>\n",
       "      <th>mean</th>\n",
       "      <td>63888.888889</td>\n",
       "      <td>44.555556</td>\n",
       "    </tr>\n",
       "    <tr>\n",
       "      <th>std</th>\n",
       "      <td>18617.494759</td>\n",
       "      <td>13.974183</td>\n",
       "    </tr>\n",
       "    <tr>\n",
       "      <th>min</th>\n",
       "      <td>40000.000000</td>\n",
       "      <td>29.000000</td>\n",
       "    </tr>\n",
       "    <tr>\n",
       "      <th>25%</th>\n",
       "      <td>50000.000000</td>\n",
       "      <td>35.000000</td>\n",
       "    </tr>\n",
       "    <tr>\n",
       "      <th>50%</th>\n",
       "      <td>60000.000000</td>\n",
       "      <td>42.000000</td>\n",
       "    </tr>\n",
       "    <tr>\n",
       "      <th>75%</th>\n",
       "      <td>80000.000000</td>\n",
       "      <td>50.000000</td>\n",
       "    </tr>\n",
       "    <tr>\n",
       "      <th>max</th>\n",
       "      <td>90000.000000</td>\n",
       "      <td>70.000000</td>\n",
       "    </tr>\n",
       "  </tbody>\n",
       "</table>\n",
       "</div>"
      ],
      "text/plain": [
       "             Salary        Age\n",
       "count      9.000000   9.000000\n",
       "mean   63888.888889  44.555556\n",
       "std    18617.494759  13.974183\n",
       "min    40000.000000  29.000000\n",
       "25%    50000.000000  35.000000\n",
       "50%    60000.000000  42.000000\n",
       "75%    80000.000000  50.000000\n",
       "max    90000.000000  70.000000"
      ]
     },
     "execution_count": 80,
     "metadata": {},
     "output_type": "execute_result"
    }
   ],
   "source": [
    "df.describe()"
   ]
  },
  {
   "cell_type": "code",
   "execution_count": 81,
   "id": "51f2b2a8",
   "metadata": {},
   "outputs": [
    {
     "name": "stdout",
     "output_type": "stream",
     "text": [
      "Missing values per column:\n",
      " State        0\n",
      "Salary       1\n",
      "Age          1\n",
      "Paid_back    0\n",
      "dtype: int64\n"
     ]
    }
   ],
   "source": [
    "#check for missing values\n",
    "print(\"Missing values per column:\\n\", df.isnull().sum())\n"
   ]
  },
  {
   "cell_type": "code",
   "execution_count": 82,
   "id": "8f5431cc",
   "metadata": {},
   "outputs": [
    {
     "name": "stdout",
     "output_type": "stream",
     "text": [
      "\n",
      " DataFrame Sorted by State: \n",
      "           State   Salary   Age Paid_back\n",
      "1    New Jersey  60000.0  47.0       Yes\n",
      "3    New Jersey      NaN  29.0        No\n",
      "4    New Jersey  90000.0  70.0        No\n",
      "9    New Jersey  72000.0  42.0       Yes\n",
      "0      New York  80000.0  35.0       Yes\n",
      "5      New York  40000.0  37.0       Yes\n",
      "7      New York  85000.0   NaN        No\n",
      "2  Pennsylvania  50000.0  61.0        No\n",
      "6  Pennsylvania  56000.0  30.0       Yes\n",
      "8  Pennsylvania  42000.0  50.0       Yes\n"
     ]
    }
   ],
   "source": [
    "# Sort by the 'State' column\n",
    "dfSorted = df.sort_values(by=\"State\")\n",
    "print(\"\\n DataFrame Sorted by State: \\n\", dfSorted)\n"
   ]
  },
  {
   "cell_type": "code",
   "execution_count": 83,
   "id": "ed5e1e24",
   "metadata": {},
   "outputs": [
    {
     "name": "stdout",
     "output_type": "stream",
     "text": [
      "\n",
      " Means of Numeric Features by State: \n",
      "                     Salary   Age\n",
      "State                           \n",
      "New Jersey    74000.000000  47.0\n",
      "New York      68333.333333  36.0\n",
      "Pennsylvania  49333.333333  47.0\n"
     ]
    }
   ],
   "source": [
    "# Means of numeric columns grouped by the 'State'\n",
    "meansByState = df.groupby(\"State\").mean(numeric_only=True)\n",
    "print(\"\\n Means of Numeric Features by State: \\n\", meansByState)\n"
   ]
  },
  {
   "cell_type": "code",
   "execution_count": 84,
   "id": "e2c8e6a1",
   "metadata": {},
   "outputs": [
    {
     "name": "stdout",
     "output_type": "stream",
     "text": [
      "\n",
      "Min, Max, and Mean of Salary and Age by State:\n",
      "                Salary                          Age            \n",
      "                  min      max          mean   min   max  mean\n",
      "State                                                         \n",
      "New Jersey    60000.0  90000.0  74000.000000  29.0  70.0  47.0\n",
      "New York      40000.0  85000.0  68333.333333  35.0  37.0  36.0\n",
      "Pennsylvania  42000.0  56000.0  49333.333333  30.0  61.0  47.0\n"
     ]
    }
   ],
   "source": [
    "# Using groupby to compute multiple aggregate stats\n",
    "statsByState = df.groupby(\"State\")[[\"Salary\", \"Age\"]].agg([\"min\", \"max\", \"mean\"])\n",
    "print(\"\\nMin, Max, and Mean of Salary and Age by State:\\n\", statsByState)\n"
   ]
  },
  {
   "cell_type": "markdown",
   "id": "c18bcbbb",
   "metadata": {},
   "source": [
    "## Take Care of missing data\n",
    "1.  Delete rows with missing data, or\n",
    "2.  Replace missing data with mean values."
   ]
  },
  {
   "cell_type": "code",
   "execution_count": 85,
   "id": "b3736386",
   "metadata": {},
   "outputs": [
    {
     "name": "stdout",
     "output_type": "stream",
     "text": [
      "(10, 4)\n",
      "(8, 4)\n"
     ]
    }
   ],
   "source": [
    "\n",
    "#delete rows with missing data\n",
    "print(df.shape)\n",
    "#drop rows with missing values\n",
    "dfRvMissing = df.dropna()\n",
    "#summarize the shape of the data with missing rows removed\n",
    "print(dfRvMissing.shape)"
   ]
  },
  {
   "cell_type": "markdown",
   "id": "2e6d2b3d",
   "metadata": {},
   "source": [
    "## Encode Categorical data"
   ]
  },
  {
   "cell_type": "markdown",
   "id": "ac945004",
   "metadata": {},
   "source": [
    "#### Encode and display the categorical Independent Variable"
   ]
  },
  {
   "cell_type": "code",
   "execution_count": 86,
   "id": "9fccd871",
   "metadata": {},
   "outputs": [
    {
     "name": "stdout",
     "output_type": "stream",
     "text": [
      "<class 'pandas.core.frame.DataFrame'>\n",
      "RangeIndex: 10 entries, 0 to 9\n",
      "Data columns (total 4 columns):\n",
      " #   Column     Non-Null Count  Dtype  \n",
      "---  ------     --------------  -----  \n",
      " 0   State      10 non-null     object \n",
      " 1   Salary     9 non-null      float64\n",
      " 2   Age        9 non-null      float64\n",
      " 3   Paid_back  10 non-null     object \n",
      "dtypes: float64(2), object(2)\n",
      "memory usage: 452.0+ bytes\n"
     ]
    }
   ],
   "source": [
    "df.info()"
   ]
  },
  {
   "cell_type": "code",
   "execution_count": 87,
   "id": "913789f3",
   "metadata": {},
   "outputs": [
    {
     "data": {
      "text/html": [
       "<div>\n",
       "<style scoped>\n",
       "    .dataframe tbody tr th:only-of-type {\n",
       "        vertical-align: middle;\n",
       "    }\n",
       "\n",
       "    .dataframe tbody tr th {\n",
       "        vertical-align: top;\n",
       "    }\n",
       "\n",
       "    .dataframe thead th {\n",
       "        text-align: right;\n",
       "    }\n",
       "</style>\n",
       "<table border=\"1\" class=\"dataframe\">\n",
       "  <thead>\n",
       "    <tr style=\"text-align: right;\">\n",
       "      <th></th>\n",
       "      <th>State</th>\n",
       "      <th>Salary</th>\n",
       "      <th>Age</th>\n",
       "      <th>Paid_back</th>\n",
       "    </tr>\n",
       "  </thead>\n",
       "  <tbody>\n",
       "    <tr>\n",
       "      <th>0</th>\n",
       "      <td>New York</td>\n",
       "      <td>80000.0</td>\n",
       "      <td>35.0</td>\n",
       "      <td>Yes</td>\n",
       "    </tr>\n",
       "    <tr>\n",
       "      <th>1</th>\n",
       "      <td>New Jersey</td>\n",
       "      <td>60000.0</td>\n",
       "      <td>47.0</td>\n",
       "      <td>Yes</td>\n",
       "    </tr>\n",
       "    <tr>\n",
       "      <th>2</th>\n",
       "      <td>Pennsylvania</td>\n",
       "      <td>50000.0</td>\n",
       "      <td>61.0</td>\n",
       "      <td>No</td>\n",
       "    </tr>\n",
       "    <tr>\n",
       "      <th>3</th>\n",
       "      <td>New Jersey</td>\n",
       "      <td>NaN</td>\n",
       "      <td>29.0</td>\n",
       "      <td>No</td>\n",
       "    </tr>\n",
       "    <tr>\n",
       "      <th>4</th>\n",
       "      <td>New Jersey</td>\n",
       "      <td>90000.0</td>\n",
       "      <td>70.0</td>\n",
       "      <td>No</td>\n",
       "    </tr>\n",
       "  </tbody>\n",
       "</table>\n",
       "</div>"
      ],
      "text/plain": [
       "          State   Salary   Age Paid_back\n",
       "0      New York  80000.0  35.0       Yes\n",
       "1    New Jersey  60000.0  47.0       Yes\n",
       "2  Pennsylvania  50000.0  61.0        No\n",
       "3    New Jersey      NaN  29.0        No\n",
       "4    New Jersey  90000.0  70.0        No"
      ]
     },
     "execution_count": 87,
     "metadata": {},
     "output_type": "execute_result"
    }
   ],
   "source": [
    "df.head()"
   ]
  },
  {
   "cell_type": "code",
   "execution_count": 88,
   "id": "17fa836a",
   "metadata": {},
   "outputs": [],
   "source": [
    "numericColumns = ['Salary','Age']"
   ]
  },
  {
   "cell_type": "code",
   "execution_count": 89,
   "id": "dc15af60",
   "metadata": {},
   "outputs": [
    {
     "data": {
      "text/plain": [
       "array(['Yes', 'No'], dtype=object)"
      ]
     },
     "execution_count": 89,
     "metadata": {},
     "output_type": "execute_result"
    }
   ],
   "source": [
    "df['Paid_back'].unique()"
   ]
  },
  {
   "cell_type": "code",
   "execution_count": 90,
   "id": "14e27b09",
   "metadata": {},
   "outputs": [],
   "source": [
    "#get_dummies method to encode categorical features\n",
    "df = pd.get_dummies(df,columns=[\"Paid_back\"],dtype = 'int')"
   ]
  },
  {
   "cell_type": "code",
   "execution_count": 91,
   "id": "d90c9062",
   "metadata": {},
   "outputs": [
    {
     "data": {
      "text/html": [
       "<div>\n",
       "<style scoped>\n",
       "    .dataframe tbody tr th:only-of-type {\n",
       "        vertical-align: middle;\n",
       "    }\n",
       "\n",
       "    .dataframe tbody tr th {\n",
       "        vertical-align: top;\n",
       "    }\n",
       "\n",
       "    .dataframe thead th {\n",
       "        text-align: right;\n",
       "    }\n",
       "</style>\n",
       "<table border=\"1\" class=\"dataframe\">\n",
       "  <thead>\n",
       "    <tr style=\"text-align: right;\">\n",
       "      <th></th>\n",
       "      <th>State</th>\n",
       "      <th>Salary</th>\n",
       "      <th>Age</th>\n",
       "      <th>Paid_back_No</th>\n",
       "      <th>Paid_back_Yes</th>\n",
       "    </tr>\n",
       "  </thead>\n",
       "  <tbody>\n",
       "    <tr>\n",
       "      <th>0</th>\n",
       "      <td>New York</td>\n",
       "      <td>80000.0</td>\n",
       "      <td>35.0</td>\n",
       "      <td>0</td>\n",
       "      <td>1</td>\n",
       "    </tr>\n",
       "    <tr>\n",
       "      <th>1</th>\n",
       "      <td>New Jersey</td>\n",
       "      <td>60000.0</td>\n",
       "      <td>47.0</td>\n",
       "      <td>0</td>\n",
       "      <td>1</td>\n",
       "    </tr>\n",
       "    <tr>\n",
       "      <th>2</th>\n",
       "      <td>Pennsylvania</td>\n",
       "      <td>50000.0</td>\n",
       "      <td>61.0</td>\n",
       "      <td>1</td>\n",
       "      <td>0</td>\n",
       "    </tr>\n",
       "    <tr>\n",
       "      <th>3</th>\n",
       "      <td>New Jersey</td>\n",
       "      <td>NaN</td>\n",
       "      <td>29.0</td>\n",
       "      <td>1</td>\n",
       "      <td>0</td>\n",
       "    </tr>\n",
       "    <tr>\n",
       "      <th>4</th>\n",
       "      <td>New Jersey</td>\n",
       "      <td>90000.0</td>\n",
       "      <td>70.0</td>\n",
       "      <td>1</td>\n",
       "      <td>0</td>\n",
       "    </tr>\n",
       "    <tr>\n",
       "      <th>5</th>\n",
       "      <td>New York</td>\n",
       "      <td>40000.0</td>\n",
       "      <td>37.0</td>\n",
       "      <td>0</td>\n",
       "      <td>1</td>\n",
       "    </tr>\n",
       "    <tr>\n",
       "      <th>6</th>\n",
       "      <td>Pennsylvania</td>\n",
       "      <td>56000.0</td>\n",
       "      <td>30.0</td>\n",
       "      <td>0</td>\n",
       "      <td>1</td>\n",
       "    </tr>\n",
       "    <tr>\n",
       "      <th>7</th>\n",
       "      <td>New York</td>\n",
       "      <td>85000.0</td>\n",
       "      <td>NaN</td>\n",
       "      <td>1</td>\n",
       "      <td>0</td>\n",
       "    </tr>\n",
       "    <tr>\n",
       "      <th>8</th>\n",
       "      <td>Pennsylvania</td>\n",
       "      <td>42000.0</td>\n",
       "      <td>50.0</td>\n",
       "      <td>0</td>\n",
       "      <td>1</td>\n",
       "    </tr>\n",
       "    <tr>\n",
       "      <th>9</th>\n",
       "      <td>New Jersey</td>\n",
       "      <td>72000.0</td>\n",
       "      <td>42.0</td>\n",
       "      <td>0</td>\n",
       "      <td>1</td>\n",
       "    </tr>\n",
       "  </tbody>\n",
       "</table>\n",
       "</div>"
      ],
      "text/plain": [
       "          State   Salary   Age  Paid_back_No  Paid_back_Yes\n",
       "0      New York  80000.0  35.0             0              1\n",
       "1    New Jersey  60000.0  47.0             0              1\n",
       "2  Pennsylvania  50000.0  61.0             1              0\n",
       "3    New Jersey      NaN  29.0             1              0\n",
       "4    New Jersey  90000.0  70.0             1              0\n",
       "5      New York  40000.0  37.0             0              1\n",
       "6  Pennsylvania  56000.0  30.0             0              1\n",
       "7      New York  85000.0   NaN             1              0\n",
       "8  Pennsylvania  42000.0  50.0             0              1\n",
       "9    New Jersey  72000.0  42.0             0              1"
      ]
     },
     "execution_count": 91,
     "metadata": {},
     "output_type": "execute_result"
    }
   ],
   "source": [
    "df"
   ]
  },
  {
   "cell_type": "code",
   "execution_count": 92,
   "id": "ba60e091",
   "metadata": {},
   "outputs": [],
   "source": [
    "catColumns= ['Paid_back_No','Paid_back_Yes']\n",
    "ind_columns= numericColumns + catColumns"
   ]
  },
  {
   "cell_type": "markdown",
   "id": "3f73f319",
   "metadata": {},
   "source": [
    "#### Encode and display the Dependent Variable"
   ]
  },
  {
   "cell_type": "code",
   "execution_count": 93,
   "id": "c65e47e4",
   "metadata": {},
   "outputs": [
    {
     "data": {
      "text/plain": [
       "array(['New York', 'New Jersey', 'Pennsylvania'], dtype=object)"
      ]
     },
     "execution_count": 93,
     "metadata": {},
     "output_type": "execute_result"
    }
   ],
   "source": [
    "df['State'].unique()"
   ]
  },
  {
   "cell_type": "code",
   "execution_count": 94,
   "id": "73a1bde2",
   "metadata": {},
   "outputs": [
    {
     "data": {
      "text/html": [
       "<div>\n",
       "<style scoped>\n",
       "    .dataframe tbody tr th:only-of-type {\n",
       "        vertical-align: middle;\n",
       "    }\n",
       "\n",
       "    .dataframe tbody tr th {\n",
       "        vertical-align: top;\n",
       "    }\n",
       "\n",
       "    .dataframe thead th {\n",
       "        text-align: right;\n",
       "    }\n",
       "</style>\n",
       "<table border=\"1\" class=\"dataframe\">\n",
       "  <thead>\n",
       "    <tr style=\"text-align: right;\">\n",
       "      <th></th>\n",
       "      <th>State</th>\n",
       "      <th>Salary</th>\n",
       "      <th>Age</th>\n",
       "      <th>Paid_back_No</th>\n",
       "      <th>Paid_back_Yes</th>\n",
       "      <th>label</th>\n",
       "    </tr>\n",
       "  </thead>\n",
       "  <tbody>\n",
       "    <tr>\n",
       "      <th>0</th>\n",
       "      <td>New York</td>\n",
       "      <td>80000.0</td>\n",
       "      <td>35.0</td>\n",
       "      <td>0</td>\n",
       "      <td>1</td>\n",
       "      <td>0</td>\n",
       "    </tr>\n",
       "    <tr>\n",
       "      <th>1</th>\n",
       "      <td>New Jersey</td>\n",
       "      <td>60000.0</td>\n",
       "      <td>47.0</td>\n",
       "      <td>0</td>\n",
       "      <td>1</td>\n",
       "      <td>1</td>\n",
       "    </tr>\n",
       "    <tr>\n",
       "      <th>2</th>\n",
       "      <td>Pennsylvania</td>\n",
       "      <td>50000.0</td>\n",
       "      <td>61.0</td>\n",
       "      <td>1</td>\n",
       "      <td>0</td>\n",
       "      <td>0</td>\n",
       "    </tr>\n",
       "    <tr>\n",
       "      <th>3</th>\n",
       "      <td>New Jersey</td>\n",
       "      <td>NaN</td>\n",
       "      <td>29.0</td>\n",
       "      <td>1</td>\n",
       "      <td>0</td>\n",
       "      <td>1</td>\n",
       "    </tr>\n",
       "    <tr>\n",
       "      <th>4</th>\n",
       "      <td>New Jersey</td>\n",
       "      <td>90000.0</td>\n",
       "      <td>70.0</td>\n",
       "      <td>1</td>\n",
       "      <td>0</td>\n",
       "      <td>1</td>\n",
       "    </tr>\n",
       "    <tr>\n",
       "      <th>5</th>\n",
       "      <td>New York</td>\n",
       "      <td>40000.0</td>\n",
       "      <td>37.0</td>\n",
       "      <td>0</td>\n",
       "      <td>1</td>\n",
       "      <td>0</td>\n",
       "    </tr>\n",
       "    <tr>\n",
       "      <th>6</th>\n",
       "      <td>Pennsylvania</td>\n",
       "      <td>56000.0</td>\n",
       "      <td>30.0</td>\n",
       "      <td>0</td>\n",
       "      <td>1</td>\n",
       "      <td>0</td>\n",
       "    </tr>\n",
       "    <tr>\n",
       "      <th>7</th>\n",
       "      <td>New York</td>\n",
       "      <td>85000.0</td>\n",
       "      <td>NaN</td>\n",
       "      <td>1</td>\n",
       "      <td>0</td>\n",
       "      <td>0</td>\n",
       "    </tr>\n",
       "    <tr>\n",
       "      <th>8</th>\n",
       "      <td>Pennsylvania</td>\n",
       "      <td>42000.0</td>\n",
       "      <td>50.0</td>\n",
       "      <td>0</td>\n",
       "      <td>1</td>\n",
       "      <td>0</td>\n",
       "    </tr>\n",
       "    <tr>\n",
       "      <th>9</th>\n",
       "      <td>New Jersey</td>\n",
       "      <td>72000.0</td>\n",
       "      <td>42.0</td>\n",
       "      <td>0</td>\n",
       "      <td>1</td>\n",
       "      <td>1</td>\n",
       "    </tr>\n",
       "  </tbody>\n",
       "</table>\n",
       "</div>"
      ],
      "text/plain": [
       "          State   Salary   Age  Paid_back_No  Paid_back_Yes  label\n",
       "0      New York  80000.0  35.0             0              1      0\n",
       "1    New Jersey  60000.0  47.0             0              1      1\n",
       "2  Pennsylvania  50000.0  61.0             1              0      0\n",
       "3    New Jersey      NaN  29.0             1              0      1\n",
       "4    New Jersey  90000.0  70.0             1              0      1\n",
       "5      New York  40000.0  37.0             0              1      0\n",
       "6  Pennsylvania  56000.0  30.0             0              1      0\n",
       "7      New York  85000.0   NaN             1              0      0\n",
       "8  Pennsylvania  42000.0  50.0             0              1      0\n",
       "9    New Jersey  72000.0  42.0             0              1      1"
      ]
     },
     "execution_count": 94,
     "metadata": {},
     "output_type": "execute_result"
    }
   ],
   "source": [
    "df[\"label\"] = np.where(df[\"State\"].str.contains(\"New Jersey\"), 1, 0)\n",
    "df"
   ]
  },
  {
   "cell_type": "markdown",
   "id": "a9eb710f",
   "metadata": {},
   "source": [
    "## Split the dataset into training and testing sets"
   ]
  },
  {
   "cell_type": "code",
   "execution_count": 95,
   "id": "359f7ba5",
   "metadata": {},
   "outputs": [
    {
     "name": "stdout",
     "output_type": "stream",
     "text": [
      "<class 'pandas.core.frame.DataFrame'>\n",
      "RangeIndex: 10 entries, 0 to 9\n",
      "Data columns (total 6 columns):\n",
      " #   Column         Non-Null Count  Dtype  \n",
      "---  ------         --------------  -----  \n",
      " 0   State          10 non-null     object \n",
      " 1   Salary         9 non-null      float64\n",
      " 2   Age            9 non-null      float64\n",
      " 3   Paid_back_No   10 non-null     int64  \n",
      " 4   Paid_back_Yes  10 non-null     int64  \n",
      " 5   label          10 non-null     int64  \n",
      "dtypes: float64(2), int64(3), object(1)\n",
      "memory usage: 612.0+ bytes\n"
     ]
    }
   ],
   "source": [
    "df.info()"
   ]
  },
  {
   "cell_type": "code",
   "execution_count": 96,
   "id": "2e34d1e0",
   "metadata": {},
   "outputs": [],
   "source": [
    "# Store relevant columns as variables\n",
    "X = df[ind_columns].values\n",
    "# Create a 1-D numpy array\n",
    "y = df[['label']].values.ravel()"
   ]
  },
  {
   "cell_type": "code",
   "execution_count": 97,
   "id": "8519c533",
   "metadata": {},
   "outputs": [
    {
     "data": {
      "text/plain": [
       "(10, 4)"
      ]
     },
     "execution_count": 97,
     "metadata": {},
     "output_type": "execute_result"
    }
   ],
   "source": [
    "X.shape"
   ]
  },
  {
   "cell_type": "code",
   "execution_count": 98,
   "id": "12aa91af",
   "metadata": {},
   "outputs": [
    {
     "data": {
      "text/plain": [
       "(10,)"
      ]
     },
     "execution_count": 98,
     "metadata": {},
     "output_type": "execute_result"
    }
   ],
   "source": [
    "y.shape"
   ]
  },
  {
   "cell_type": "code",
   "execution_count": 99,
   "id": "cbfa9c01",
   "metadata": {},
   "outputs": [
    {
     "data": {
      "text/plain": [
       "numpy.ndarray"
      ]
     },
     "execution_count": 99,
     "metadata": {},
     "output_type": "execute_result"
    }
   ],
   "source": [
    "type(df[ind_columns].values)"
   ]
  },
  {
   "cell_type": "code",
   "execution_count": 100,
   "id": "67d5417e",
   "metadata": {},
   "outputs": [
    {
     "name": "stdout",
     "output_type": "stream",
     "text": [
      "Split X:  (8, 4) (2, 4)\n",
      "Split Y:  (8,) (2,)\n"
     ]
    }
   ],
   "source": [
    "trainX,testX,trainY,testY = train_test_split(X, y, test_size=.2, random_state=42)\n",
    "print('Split X: ',trainX.shape, testX.shape)\n",
    "print('Split Y: ',trainY.shape, testY.shape)"
   ]
  },
  {
   "cell_type": "markdown",
   "id": "bff1a6a4",
   "metadata": {},
   "source": [
    "## Feature Scaling"
   ]
  },
  {
   "cell_type": "markdown",
   "id": "01891c8a",
   "metadata": {},
   "source": [
    "#### Standardized Scaling\n",
    "* Scale the numerical features using standardized scaling\n",
    "* Show your work"
   ]
  },
  {
   "cell_type": "code",
   "execution_count": 101,
   "id": "467a22aa",
   "metadata": {},
   "outputs": [],
   "source": [
    "original = df[numericColumns]\n",
    "# Standardize dataframe and return as an array\n",
    "standardizedArray = preprocessing.scale(original)\n",
    "\n",
    "# Convert standardized array to dataframe 'standardized'\n",
    "standardized = pd.DataFrame(standardizedArray, columns=numericColumns)"
   ]
  },
  {
   "cell_type": "code",
   "execution_count": 102,
   "id": "b399fdf0",
   "metadata": {},
   "outputs": [
    {
     "data": {
      "text/html": [
       "<div>\n",
       "<style scoped>\n",
       "    .dataframe tbody tr th:only-of-type {\n",
       "        vertical-align: middle;\n",
       "    }\n",
       "\n",
       "    .dataframe tbody tr th {\n",
       "        vertical-align: top;\n",
       "    }\n",
       "\n",
       "    .dataframe thead th {\n",
       "        text-align: right;\n",
       "    }\n",
       "</style>\n",
       "<table border=\"1\" class=\"dataframe\">\n",
       "  <thead>\n",
       "    <tr style=\"text-align: right;\">\n",
       "      <th></th>\n",
       "      <th>Salary</th>\n",
       "      <th>Age</th>\n",
       "    </tr>\n",
       "  </thead>\n",
       "  <tbody>\n",
       "    <tr>\n",
       "      <th>0</th>\n",
       "      <td>0.917869</td>\n",
       "      <td>-0.725280</td>\n",
       "    </tr>\n",
       "    <tr>\n",
       "      <th>1</th>\n",
       "      <td>-0.221554</td>\n",
       "      <td>0.185537</td>\n",
       "    </tr>\n",
       "    <tr>\n",
       "      <th>2</th>\n",
       "      <td>-0.791266</td>\n",
       "      <td>1.248157</td>\n",
       "    </tr>\n",
       "    <tr>\n",
       "      <th>3</th>\n",
       "      <td>NaN</td>\n",
       "      <td>-1.180689</td>\n",
       "    </tr>\n",
       "    <tr>\n",
       "      <th>4</th>\n",
       "      <td>1.487580</td>\n",
       "      <td>1.931269</td>\n",
       "    </tr>\n",
       "    <tr>\n",
       "      <th>5</th>\n",
       "      <td>-1.360978</td>\n",
       "      <td>-0.573477</td>\n",
       "    </tr>\n",
       "    <tr>\n",
       "      <th>6</th>\n",
       "      <td>-0.449439</td>\n",
       "      <td>-1.104787</td>\n",
       "    </tr>\n",
       "    <tr>\n",
       "      <th>7</th>\n",
       "      <td>1.202724</td>\n",
       "      <td>NaN</td>\n",
       "    </tr>\n",
       "    <tr>\n",
       "      <th>8</th>\n",
       "      <td>-1.247035</td>\n",
       "      <td>0.413241</td>\n",
       "    </tr>\n",
       "    <tr>\n",
       "      <th>9</th>\n",
       "      <td>0.462099</td>\n",
       "      <td>-0.193970</td>\n",
       "    </tr>\n",
       "  </tbody>\n",
       "</table>\n",
       "</div>"
      ],
      "text/plain": [
       "     Salary       Age\n",
       "0  0.917869 -0.725280\n",
       "1 -0.221554  0.185537\n",
       "2 -0.791266  1.248157\n",
       "3       NaN -1.180689\n",
       "4  1.487580  1.931269\n",
       "5 -1.360978 -0.573477\n",
       "6 -0.449439 -1.104787\n",
       "7  1.202724       NaN\n",
       "8 -1.247035  0.413241\n",
       "9  0.462099 -0.193970"
      ]
     },
     "execution_count": 102,
     "metadata": {},
     "output_type": "execute_result"
    }
   ],
   "source": [
    "standardized"
   ]
  },
  {
   "cell_type": "markdown",
   "id": "ce8e9fe6",
   "metadata": {},
   "source": [
    "#### Normalized Scaling\n",
    "* Scale the numerical features using normalized scaling\n",
    "* Show your work"
   ]
  },
  {
   "cell_type": "code",
   "execution_count": 103,
   "id": "54d5d32a",
   "metadata": {},
   "outputs": [
    {
     "data": {
      "text/html": [
       "<div>\n",
       "<style scoped>\n",
       "    .dataframe tbody tr th:only-of-type {\n",
       "        vertical-align: middle;\n",
       "    }\n",
       "\n",
       "    .dataframe tbody tr th {\n",
       "        vertical-align: top;\n",
       "    }\n",
       "\n",
       "    .dataframe thead th {\n",
       "        text-align: right;\n",
       "    }\n",
       "</style>\n",
       "<table border=\"1\" class=\"dataframe\">\n",
       "  <thead>\n",
       "    <tr style=\"text-align: right;\">\n",
       "      <th></th>\n",
       "      <th>Salary</th>\n",
       "      <th>Age</th>\n",
       "    </tr>\n",
       "  </thead>\n",
       "  <tbody>\n",
       "    <tr>\n",
       "      <th>0</th>\n",
       "      <td>0.80</td>\n",
       "      <td>0.146341</td>\n",
       "    </tr>\n",
       "    <tr>\n",
       "      <th>1</th>\n",
       "      <td>0.40</td>\n",
       "      <td>0.439024</td>\n",
       "    </tr>\n",
       "    <tr>\n",
       "      <th>2</th>\n",
       "      <td>0.20</td>\n",
       "      <td>0.780488</td>\n",
       "    </tr>\n",
       "    <tr>\n",
       "      <th>3</th>\n",
       "      <td>NaN</td>\n",
       "      <td>0.000000</td>\n",
       "    </tr>\n",
       "    <tr>\n",
       "      <th>4</th>\n",
       "      <td>1.00</td>\n",
       "      <td>1.000000</td>\n",
       "    </tr>\n",
       "    <tr>\n",
       "      <th>5</th>\n",
       "      <td>0.00</td>\n",
       "      <td>0.195122</td>\n",
       "    </tr>\n",
       "    <tr>\n",
       "      <th>6</th>\n",
       "      <td>0.32</td>\n",
       "      <td>0.024390</td>\n",
       "    </tr>\n",
       "    <tr>\n",
       "      <th>7</th>\n",
       "      <td>0.90</td>\n",
       "      <td>NaN</td>\n",
       "    </tr>\n",
       "    <tr>\n",
       "      <th>8</th>\n",
       "      <td>0.04</td>\n",
       "      <td>0.512195</td>\n",
       "    </tr>\n",
       "    <tr>\n",
       "      <th>9</th>\n",
       "      <td>0.64</td>\n",
       "      <td>0.317073</td>\n",
       "    </tr>\n",
       "  </tbody>\n",
       "</table>\n",
       "</div>"
      ],
      "text/plain": [
       "   Salary       Age\n",
       "0    0.80  0.146341\n",
       "1    0.40  0.439024\n",
       "2    0.20  0.780488\n",
       "3     NaN  0.000000\n",
       "4    1.00  1.000000\n",
       "5    0.00  0.195122\n",
       "6    0.32  0.024390\n",
       "7    0.90       NaN\n",
       "8    0.04  0.512195\n",
       "9    0.64  0.317073"
      ]
     },
     "execution_count": 103,
     "metadata": {},
     "output_type": "execute_result"
    }
   ],
   "source": [
    "# Normalize dataframe and return as an array\n",
    "normalizedArray = preprocessing.MinMaxScaler().fit_transform(df[numericColumns])\n",
    "\n",
    "# Convert normalized array to dataframe 'normalized'\n",
    "normalized = pd.DataFrame(normalizedArray, columns=numericColumns)\n",
    "normalized"
   ]
  }
 ],
 "metadata": {
  "kernelspec": {
   "display_name": "Python 3",
   "language": "python",
   "name": "python3"
  },
  "language_info": {
   "codemirror_mode": {
    "name": "ipython",
    "version": 3
   },
   "file_extension": ".py",
   "mimetype": "text/x-python",
   "name": "python",
   "nbconvert_exporter": "python",
   "pygments_lexer": "ipython3",
   "version": "3.12.1"
  }
 },
 "nbformat": 4,
 "nbformat_minor": 5
}
