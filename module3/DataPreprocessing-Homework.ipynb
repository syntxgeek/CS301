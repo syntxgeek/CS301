{
 "cells": [
  {
   "cell_type": "markdown",
   "id": "c22ebf8d",
   "metadata": {},
   "source": [
    "# Data Preprocessing Steps:\n"
   ]
  },
  {
   "cell_type": "markdown",
   "id": "0c5c47a0",
   "metadata": {},
   "source": [
    "## Import the libraries"
   ]
  },
  {
   "cell_type": "code",
   "execution_count": 1,
   "id": "bf4e0f81",
   "metadata": {},
   "outputs": [],
   "source": [
    "import numpy as np\n",
    "import pandas as pd\n",
    "import matplotlib.pyplot as plt\n",
    "from sklearn import preprocessing\n",
    "from sklearn.model_selection import train_test_split\n",
    "from sklearn.impute import SimpleImputer"
   ]
  },
  {
   "cell_type": "markdown",
   "id": "7db10320",
   "metadata": {},
   "source": [
    "## Import and examine the dataset\n",
    "- Do we have any missing values?\n",
    "- Show the dataframe sorted by State\n",
    "- Show the means of numeric features by State\n",
    "- Compute the min, max and mean of Salary and Age by state\n",
    "\n",
    "Use a many cells as needed to show your work"
   ]
  },
  {
   "cell_type": "markdown",
   "id": "9ee50ac8",
   "metadata": {},
   "source": [
    "[Dataset.csv](https://drive.google.com/file/d/1Sq7OQ-jMWFlF6Zamz5_RmIvjUt9d1THb/view?usp=sharing)"
   ]
  },
  {
   "cell_type": "code",
   "execution_count": 3,
   "id": "d0cc5d50",
   "metadata": {},
   "outputs": [
    {
     "data": {
      "text/html": [
       "<div>\n",
       "<style scoped>\n",
       "    .dataframe tbody tr th:only-of-type {\n",
       "        vertical-align: middle;\n",
       "    }\n",
       "\n",
       "    .dataframe tbody tr th {\n",
       "        vertical-align: top;\n",
       "    }\n",
       "\n",
       "    .dataframe thead th {\n",
       "        text-align: right;\n",
       "    }\n",
       "</style>\n",
       "<table border=\"1\" class=\"dataframe\">\n",
       "  <thead>\n",
       "    <tr style=\"text-align: right;\">\n",
       "      <th></th>\n",
       "      <th>State</th>\n",
       "      <th>Salary</th>\n",
       "      <th>Age</th>\n",
       "      <th>Paid_back</th>\n",
       "    </tr>\n",
       "  </thead>\n",
       "  <tbody>\n",
       "    <tr>\n",
       "      <th>0</th>\n",
       "      <td>New York</td>\n",
       "      <td>80000.0</td>\n",
       "      <td>35.0</td>\n",
       "      <td>Yes</td>\n",
       "    </tr>\n",
       "    <tr>\n",
       "      <th>1</th>\n",
       "      <td>New Jersey</td>\n",
       "      <td>60000.0</td>\n",
       "      <td>47.0</td>\n",
       "      <td>Yes</td>\n",
       "    </tr>\n",
       "    <tr>\n",
       "      <th>2</th>\n",
       "      <td>Pennsylvania</td>\n",
       "      <td>50000.0</td>\n",
       "      <td>61.0</td>\n",
       "      <td>No</td>\n",
       "    </tr>\n",
       "    <tr>\n",
       "      <th>3</th>\n",
       "      <td>New Jersey</td>\n",
       "      <td>NaN</td>\n",
       "      <td>29.0</td>\n",
       "      <td>No</td>\n",
       "    </tr>\n",
       "    <tr>\n",
       "      <th>4</th>\n",
       "      <td>New Jersey</td>\n",
       "      <td>90000.0</td>\n",
       "      <td>70.0</td>\n",
       "      <td>No</td>\n",
       "    </tr>\n",
       "    <tr>\n",
       "      <th>5</th>\n",
       "      <td>New York</td>\n",
       "      <td>40000.0</td>\n",
       "      <td>37.0</td>\n",
       "      <td>Yes</td>\n",
       "    </tr>\n",
       "    <tr>\n",
       "      <th>6</th>\n",
       "      <td>Pennsylvania</td>\n",
       "      <td>56000.0</td>\n",
       "      <td>30.0</td>\n",
       "      <td>Yes</td>\n",
       "    </tr>\n",
       "    <tr>\n",
       "      <th>7</th>\n",
       "      <td>New York</td>\n",
       "      <td>85000.0</td>\n",
       "      <td>NaN</td>\n",
       "      <td>No</td>\n",
       "    </tr>\n",
       "    <tr>\n",
       "      <th>8</th>\n",
       "      <td>Pennsylvania</td>\n",
       "      <td>42000.0</td>\n",
       "      <td>50.0</td>\n",
       "      <td>Yes</td>\n",
       "    </tr>\n",
       "    <tr>\n",
       "      <th>9</th>\n",
       "      <td>New Jersey</td>\n",
       "      <td>72000.0</td>\n",
       "      <td>42.0</td>\n",
       "      <td>Yes</td>\n",
       "    </tr>\n",
       "  </tbody>\n",
       "</table>\n",
       "</div>"
      ],
      "text/plain": [
       "          State   Salary   Age Paid_back\n",
       "0      New York  80000.0  35.0       Yes\n",
       "1    New Jersey  60000.0  47.0       Yes\n",
       "2  Pennsylvania  50000.0  61.0        No\n",
       "3    New Jersey      NaN  29.0        No\n",
       "4    New Jersey  90000.0  70.0        No\n",
       "5      New York  40000.0  37.0       Yes\n",
       "6  Pennsylvania  56000.0  30.0       Yes\n",
       "7      New York  85000.0   NaN        No\n",
       "8  Pennsylvania  42000.0  50.0       Yes\n",
       "9    New Jersey  72000.0  42.0       Yes"
      ]
     },
     "execution_count": 3,
     "metadata": {},
     "output_type": "execute_result"
    }
   ],
   "source": []
  },
  {
   "cell_type": "markdown",
   "id": "c18bcbbb",
   "metadata": {},
   "source": [
    "## Take Care of missing data\n",
    "1.  Delete rows with missing data, or\n",
    "2.  Replace missing data with mean values."
   ]
  },
  {
   "cell_type": "code",
   "execution_count": null,
   "id": "0a0f0c1f",
   "metadata": {},
   "outputs": [],
   "source": []
  },
  {
   "cell_type": "code",
   "execution_count": null,
   "id": "9a513817",
   "metadata": {},
   "outputs": [],
   "source": []
  },
  {
   "cell_type": "markdown",
   "id": "2e6d2b3d",
   "metadata": {},
   "source": [
    "## Encode Categorical data"
   ]
  },
  {
   "cell_type": "markdown",
   "id": "ac945004",
   "metadata": {},
   "source": [
    "#### Encode and display the categorical Independent Variable"
   ]
  },
  {
   "cell_type": "code",
   "execution_count": null,
   "id": "9fccd871",
   "metadata": {},
   "outputs": [],
   "source": []
  },
  {
   "cell_type": "markdown",
   "id": "3f73f319",
   "metadata": {},
   "source": [
    "#### Encode and display the Dependent Variable"
   ]
  },
  {
   "cell_type": "code",
   "execution_count": null,
   "id": "e3722c02",
   "metadata": {},
   "outputs": [],
   "source": []
  },
  {
   "cell_type": "markdown",
   "id": "a9eb710f",
   "metadata": {},
   "source": [
    "## Split the dataset into training and testing sets"
   ]
  },
  {
   "cell_type": "code",
   "execution_count": null,
   "id": "2e34d1e0",
   "metadata": {},
   "outputs": [],
   "source": []
  },
  {
   "cell_type": "markdown",
   "id": "bff1a6a4",
   "metadata": {},
   "source": [
    "## Feature Scaling"
   ]
  },
  {
   "cell_type": "markdown",
   "id": "01891c8a",
   "metadata": {},
   "source": [
    "#### Standardized Scaling\n",
    "* Scale the numerical features using standardized scaling\n",
    "* Show your work"
   ]
  },
  {
   "cell_type": "code",
   "execution_count": null,
   "id": "467a22aa",
   "metadata": {},
   "outputs": [],
   "source": []
  },
  {
   "cell_type": "markdown",
   "id": "ce8e9fe6",
   "metadata": {},
   "source": [
    "#### Normalized Scaling\n",
    "* Scale the numerical features using normalized scaling\n",
    "* Show your work"
   ]
  },
  {
   "cell_type": "code",
   "execution_count": null,
   "id": "54d5d32a",
   "metadata": {},
   "outputs": [],
   "source": []
  }
 ],
 "metadata": {
  "kernelspec": {
   "display_name": "Python 3 (ipykernel)",
   "language": "python",
   "name": "python3"
  },
  "language_info": {
   "codemirror_mode": {
    "name": "ipython",
    "version": 3
   },
   "file_extension": ".py",
   "mimetype": "text/x-python",
   "name": "python",
   "nbconvert_exporter": "python",
   "pygments_lexer": "ipython3",
   "version": "3.9.15"
  }
 },
 "nbformat": 4,
 "nbformat_minor": 5
}
