{
 "cells": [
  {
   "cell_type": "code",
   "execution_count": null,
   "id": "4bdc4c65",
   "metadata": {},
   "outputs": [],
   "source": [
    "# Import packages\n",
    "import pandas as pd\n",
    "import numpy as np\n",
    "import matplotlib.pyplot as plt\n"
   ]
  },
  {
   "cell_type": "code",
   "execution_count": null,
   "id": "a3c1b36b",
   "metadata": {},
   "outputs": [],
   "source": [
    "# Read data, clean up names\n",
    "\n",
    "df = pd.read_csv(\"data/PurchaseData.csv\")\n",
    "df = df.drop(['User ID'], axis=1)\n",
    "print(df.shape)\n",
    "df.describe()"
   ]
  },
  {
   "cell_type": "code",
   "execution_count": null,
   "id": "0c253dc7",
   "metadata": {},
   "outputs": [],
   "source": [
    "df.info()"
   ]
  },
  {
   "cell_type": "code",
   "execution_count": null,
   "id": "c6695089",
   "metadata": {
    "scrolled": true
   },
   "outputs": [],
   "source": [
    "# Convert Categorical Features to numerical.\n",
    "df.loc[df['Gender'] == 'Male', 'Gender'] = 0\n",
    "df.loc[df['Gender'] == 'Female', 'Gender'] = 1"
   ]
  },
  {
   "cell_type": "code",
   "execution_count": null,
   "id": "345b21ad",
   "metadata": {},
   "outputs": [],
   "source": [
    "df.head()"
   ]
  },
  {
   "cell_type": "markdown",
   "id": "8e532be5",
   "metadata": {},
   "source": [
    "### Use Gender, Age and EstimatedSalary as Independent Variables - Predict 'Purchased' ###"
   ]
  },
  {
   "cell_type": "code",
   "execution_count": null,
   "id": "55bbbe66",
   "metadata": {},
   "outputs": [],
   "source": [
    "# Store relevant columns as variables\n",
    "X = \n",
    "y = "
   ]
  },
  {
   "cell_type": "code",
   "execution_count": null,
   "id": "88a7e440",
   "metadata": {},
   "outputs": [],
   "source": [
    "# Import train_test_split function\n",
    "from sklearn.model_selection import train_test_split\n",
    "\n",
    "# Split dataset into training set and test set\n"
   ]
  },
  {
   "cell_type": "markdown",
   "id": "a94a4564",
   "metadata": {},
   "source": [
    "### Run SVM Models Using Different Kernels (linear, poly & rbf) and Show Results ###"
   ]
  },
  {
   "cell_type": "code",
   "execution_count": null,
   "id": "609950bc",
   "metadata": {},
   "outputs": [],
   "source": [
    "#Import svm model\n",
    "from sklearn import svm\n",
    "# For each of the kernels:\n",
    "#     Create a svm Classifier\n",
    "#     Train the model using the training sets\n",
    "#     Predict the response for test dataset\n"
   ]
  },
  {
   "cell_type": "code",
   "execution_count": null,
   "id": "4f8fc51d",
   "metadata": {},
   "outputs": [],
   "source": [
    "#Import scikit-learn metrics module for accuracy calculation\n",
    "from sklearn import metrics\n",
    "# For each of the models in the cell above:\n",
    "#     Model Accuracy: how often is the classifier correct?\n",
    "#     Model Precision: what percentage of positive tuples are labeled as such?\n",
    "#     Model Recall: what percentage of positive tuples are labelled as such?\n",
    "#     Print a Confusion Matrix\n"
   ]
  },
  {
   "cell_type": "code",
   "execution_count": null,
   "id": "f4f74697",
   "metadata": {},
   "outputs": [],
   "source": []
  }
 ],
 "metadata": {
  "kernelspec": {
   "display_name": "Python 3 (ipykernel)",
   "language": "python",
   "name": "python3"
  },
  "language_info": {
   "codemirror_mode": {
    "name": "ipython",
    "version": 3
   },
   "file_extension": ".py",
   "mimetype": "text/x-python",
   "name": "python",
   "nbconvert_exporter": "python",
   "pygments_lexer": "ipython3",
   "version": "3.9.15"
  }
 },
 "nbformat": 4,
 "nbformat_minor": 5
}
